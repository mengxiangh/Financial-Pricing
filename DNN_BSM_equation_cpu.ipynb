{
 "cells": [
  {
   "cell_type": "code",
   "execution_count": 1,
   "metadata": {},
   "outputs": [],
   "source": [
    "import numpy as np\n",
    "import scipy.stats as si\n",
    "import pandas as pd\n",
    "import torch"
   ]
  },
  {
   "cell_type": "code",
   "execution_count": 14,
   "metadata": {},
   "outputs": [],
   "source": [
    "datasize = 50000\n",
    "learning_rate = 0.0001\n",
    "\n",
    "b_size = 100\n",
    "epoch = 20"
   ]
  },
  {
   "cell_type": "code",
   "execution_count": 15,
   "metadata": {},
   "outputs": [],
   "source": [
    "# BSM model for option pricing\n",
    "\n",
    "def euro_option(S0, K, T, r, sigma, option_type):\n",
    "    \n",
    "    #S0: stock price\n",
    "    #sigma: volatility\n",
    "    #K: strike price\n",
    "    #r: return\n",
    "    #T: time to maturity\n",
    "    \n",
    "    d1 = (np.log(S0/K) + (r + sigma ** 2 * 0.5))/sigma/np.sqrt(T)\n",
    "    d2 = (np.log(S0/K) + (r - sigma ** 2 * 0.5))/sigma/np.sqrt(T)\n",
    "    \n",
    "    if option_type == 'call':\n",
    "        price = S0 * si.norm.cdf(d1, 0, 1) - K * np.exp(-r * T) * si.norm.cdf(d2, 0, 1)\n",
    "        \n",
    "    if option_type == 'put':\n",
    "        price = K * np.exp(-r * T) * si.norm.cdf(-d2, 0, 1) - S0 * si.norm.cdf(-d1, 0, 1)\n",
    "        \n",
    "    return price"
   ]
  },
  {
   "cell_type": "code",
   "execution_count": 16,
   "metadata": {},
   "outputs": [],
   "source": [
    "def simulate_price(total_num):\n",
    "    np.random.seed(42)\n",
    "    S0 = np.random.rand(total_num) * 100\n",
    "    K = np.random.randint(50,150,total_num)* 0.01 * S0\n",
    "    T = np.random.randint(10, 300, total_num)/100\n",
    "    r = np.random.randint(1, 1000, total_num)/10000\n",
    "    sigma = np.random.randint(1, 50, total_num)/100\n",
    "    option_type = np.random.choice(['call','put'], total_num)\n",
    "    \n",
    "    option_price_list = []\n",
    "    \n",
    "    for i in range(total_num): \n",
    "        price = euro_option(S0[i], K[i], T[i], r[i], sigma[i], option_type[i])\n",
    "        option_price_list.append(price)\n",
    "        if i%100000 == 1:\n",
    "            print('finished:', i)\n",
    "            \n",
    "    df = pd.DataFrame({'S0': S0,\n",
    "                       'K': K,\n",
    "                       'T': T,\n",
    "                       'r': r,\n",
    "                       'sigma': sigma,\n",
    "                       'option_type': option_type,\n",
    "                       'price': option_price_list})\n",
    "    return df"
   ]
  },
  {
   "cell_type": "code",
   "execution_count": 17,
   "metadata": {},
   "outputs": [
    {
     "name": "stdout",
     "output_type": "stream",
     "text": [
      "finished: 1\n"
     ]
    }
   ],
   "source": [
    "df = simulate_price(datasize)"
   ]
  },
  {
   "cell_type": "code",
   "execution_count": 18,
   "metadata": {},
   "outputs": [],
   "source": [
    "from sklearn.model_selection import train_test_split\n",
    "df_coded = pd.concat([df, pd.get_dummies(df['option_type'])], axis=1).drop(columns='option_type')\n",
    "df_coded = df_coded[['S0','K','T','r','sigma','call','put','price']]"
   ]
  },
  {
   "cell_type": "code",
   "execution_count": 19,
   "metadata": {},
   "outputs": [],
   "source": [
    "train_set, test_set = train_test_split(df_coded, test_size=0.1)\n"
   ]
  },
  {
   "cell_type": "code",
   "execution_count": 20,
   "metadata": {},
   "outputs": [],
   "source": [
    "# define dataset\n",
    "from torch.utils.data import Dataset, DataLoader\n",
    "\n",
    "class option_dataset(Dataset):\n",
    "    def __init__(self, dataset):\n",
    "        self.dataset = torch.tensor(dataset.values)\n",
    "    def __getitem__(self, index):\n",
    "        return (self.dataset[:,0:7][index], self.dataset[:,7][index].view(1))\n",
    "    def __len__(self):\n",
    "        return self.dataset.shape[0]\n",
    "    \n",
    "\n",
    "    \n",
    "train_dataset = option_dataset(train_set)\n",
    "test_dataset = option_dataset(test_set)"
   ]
  },
  {
   "cell_type": "code",
   "execution_count": 21,
   "metadata": {},
   "outputs": [],
   "source": [
    "train_loader = DataLoader(train_dataset, batch_size = b_size, shuffle=True)\n",
    "test_loader = DataLoader(test_dataset, batch_size = b_size, shuffle=True)"
   ]
  },
  {
   "cell_type": "code",
   "execution_count": 22,
   "metadata": {},
   "outputs": [],
   "source": [
    "# define NN\n",
    "import torch.nn as nn\n",
    "import torch.nn.functional as F\n",
    "class option_pricing(nn.Module):\n",
    "    \n",
    "    def __init__(self):\n",
    "        super(option_pricing,self).__init__()\n",
    "        self.fc1 = nn.Linear(7, 128)\n",
    "        self.fc2 = nn.Linear(128, 1024)\n",
    "        self.fc3 = nn.Linear(1024, 32)\n",
    "        self.fc4 = nn.Linear(32, 1)\n",
    "        \n",
    "    def forward(self, x):\n",
    "        x = F.relu(self.fc1(x))\n",
    "        x = F.relu(self.fc2(x))\n",
    "        x = F.relu(self.fc3(x))\n",
    "        x = self.fc4(x)\n",
    "        return x\n",
    "net = option_pricing()"
   ]
  },
  {
   "cell_type": "code",
   "execution_count": 23,
   "metadata": {},
   "outputs": [],
   "source": [
    "import  torch.optim as optim\n",
    "\n",
    "criterion = nn.MSELoss()\n",
    "optimizer = optim.SGD(net.parameters(), lr=learning_rate, momentum=0.9 )"
   ]
  },
  {
   "cell_type": "code",
   "execution_count": 24,
   "metadata": {},
   "outputs": [
    {
     "name": "stdout",
     "output_type": "stream",
     "text": [
      "Train:\n",
      "epoch 1, batches 1, running_loss 1.3982667541503906\n",
      "Test:\n",
      "running_loss_ave: 0.8192487121582032\n",
      "------------\n",
      "Train:\n",
      "epoch 2, batches 1, running_loss 0.7787499237060547\n",
      "Test:\n",
      "running_loss_ave: 0.8872255165100097\n",
      "------------\n",
      "Train:\n",
      "epoch 3, batches 1, running_loss 0.7977737426757813\n",
      "Test:\n",
      "running_loss_ave: 0.6817397193908691\n",
      "------------\n",
      "Train:\n",
      "epoch 4, batches 1, running_loss 0.4826042556762695\n",
      "Test:\n",
      "running_loss_ave: 0.7391949226379394\n",
      "------------\n",
      "Train:\n",
      "epoch 5, batches 1, running_loss 0.7300798797607422\n",
      "Test:\n",
      "running_loss_ave: 0.7792520690917969\n",
      "------------\n",
      "Train:\n",
      "epoch 6, batches 1, running_loss 0.6050587463378906\n",
      "Test:\n",
      "running_loss_ave: 0.7883411018371581\n",
      "------------\n",
      "Train:\n",
      "epoch 7, batches 1, running_loss 1.063653793334961\n",
      "Test:\n",
      "running_loss_ave: 0.529281958770752\n",
      "------------\n",
      "Train:\n",
      "epoch 8, batches 1, running_loss 0.4487264633178711\n",
      "Test:\n",
      "running_loss_ave: 0.8550063377380371\n",
      "------------\n",
      "Train:\n",
      "epoch 9, batches 1, running_loss 0.8195243072509766\n",
      "Test:\n",
      "running_loss_ave: 0.867442204284668\n",
      "------------\n",
      "Train:\n",
      "epoch 10, batches 1, running_loss 0.7934776306152344\n",
      "Test:\n",
      "running_loss_ave: 0.8540819992065428\n",
      "------------\n",
      "Train:\n",
      "epoch 11, batches 1, running_loss 0.9205701446533203\n",
      "Test:\n",
      "running_loss_ave: 0.8550973686218262\n",
      "------------\n",
      "Train:\n",
      "epoch 12, batches 1, running_loss 1.0244601440429688\n",
      "Test:\n",
      "running_loss_ave: 0.9042326759338379\n",
      "------------\n",
      "Train:\n",
      "epoch 13, batches 1, running_loss 0.9481169891357422\n",
      "Test:\n",
      "running_loss_ave: 0.8586011436462401\n",
      "------------\n",
      "Train:\n",
      "epoch 14, batches 1, running_loss 0.8775865173339844\n",
      "Test:\n",
      "running_loss_ave: 0.8004048316955564\n",
      "------------\n",
      "Train:\n",
      "epoch 15, batches 1, running_loss 0.8281693267822265\n",
      "Test:\n",
      "running_loss_ave: 0.8128315475463868\n",
      "------------\n",
      "Train:\n",
      "epoch 16, batches 1, running_loss 0.8783231353759766\n",
      "Test:\n",
      "running_loss_ave: 0.8968265258789063\n",
      "------------\n",
      "Train:\n",
      "epoch 17, batches 1, running_loss 1.1187586212158203\n",
      "Test:\n",
      "running_loss_ave: 0.7401526123046875\n",
      "------------\n",
      "Train:\n",
      "epoch 18, batches 1, running_loss 0.8864142608642578\n",
      "Test:\n",
      "running_loss_ave: 0.5820359973907471\n",
      "------------\n",
      "Train:\n",
      "epoch 19, batches 1, running_loss 0.5224900817871094\n",
      "Test:\n",
      "running_loss_ave: 0.875947565460205\n",
      "------------\n",
      "Train:\n",
      "epoch 20, batches 1, running_loss 0.6589212036132812\n",
      "Test:\n",
      "running_loss_ave: 0.7768932136535645\n",
      "------------\n",
      "Finished\n"
     ]
    }
   ],
   "source": [
    "train_loss_list = []\n",
    "test_loss_list = []\n",
    "for epoch in range(epoch):\n",
    "    \n",
    "    train_running_loss = []\n",
    "    test_running_loss = []\n",
    "    \n",
    "    print('Train:')\n",
    "    for i, data in enumerate(train_loader):\n",
    "        inputs,target = data\n",
    "\n",
    "        #X, Y = Variable(torch.FloatTensor([X]), requires_grad=True), Variable(torch.FloatTensor([Y]), requires_grad=False)\n",
    "        optimizer.zero_grad()\n",
    "        outputs = net(inputs.float())\n",
    "        loss = criterion(outputs, target.float())\n",
    "        loss.backward()\n",
    "        optimizer.step()\n",
    "        \n",
    "        \n",
    "        \n",
    "        train_running_loss.append(loss.item()/b_size)\n",
    "         \n",
    "        if i%1000 == 0:\n",
    "            print('epoch {}, batches {}, running_loss {}'.format(epoch+1, i+1, loss.item()/b_size))\n",
    "          \n",
    "            \n",
    "    train_loss_list.append(np.mean(train_running_loss))\n",
    "            \n",
    "        \n",
    "            \n",
    "           \n",
    "    for j, data2 in enumerate(test_loader):\n",
    "        test_inputs, test_target = data2\n",
    "        test_outputs = net(test_inputs.float())\n",
    "        loss_test = criterion(test_outputs, test_target.float())\n",
    "        test_running_loss.append(loss_test.item()/b_size)\n",
    "        \n",
    "    print('Test:')\n",
    "    print('running_loss_ave:', np.mean(test_running_loss))\n",
    "        \n",
    "    test_loss_list.append(np.mean(test_running_loss))  \n",
    "    print('------------') \n",
    "            \n",
    "print('Finished') "
   ]
  },
  {
   "cell_type": "code",
   "execution_count": 25,
   "metadata": {},
   "outputs": [
    {
     "data": {
      "image/png": "[encoded data removed]",
      "text/plain": [
       "<Figure size 864x576 with 1 Axes>"
      ]
     },
     "metadata": {
      "needs_background": "light"
     },
     "output_type": "display_data"
    }
   ],
   "source": [
    "# Plot\n",
    "\n",
    "import matplotlib.pyplot as plt\n",
    "plt.figure(figsize=(12,8))\n",
    "plt.plot(train_loss_list, c='r', label = 'Train')\n",
    "plt.plot(test_loss_list, c='g', label = 'Test')\n",
    "plt.xlabel('Epoch')\n",
    "plt.ylabel('Loss')\n",
    "plt.legend()\n",
    "plt.show()"
   ]
  },
  {
   "cell_type": "code",
   "execution_count": null,
   "metadata": {},
   "outputs": [],
   "source": []
  }
 ],
 "metadata": {
  "kernelspec": {
   "display_name": "Python 3",
   "language": "python",
   "name": "python3"
  },
  "language_info": {
   "codemirror_mode": {
    "name": "ipython",
    "version": 3
   },
   "file_extension": ".py",
   "mimetype": "text/x-python",
   "name": "python",
   "nbconvert_exporter": "python",
   "pygments_lexer": "ipython3",
   "version": "3.7.3"
  }
 },
 "nbformat": 4,
 "nbformat_minor": 4
}
